{
 "cells": [
  {
   "cell_type": "markdown",
   "metadata": {},
   "source": [
    "## Setup"
   ]
  },
  {
   "cell_type": "code",
   "execution_count": 1,
   "metadata": {},
   "outputs": [],
   "source": [
    "%%capture --no-stderr\n",
    "%pip install --upgrade --quiet langchain-openai langchain-community langchainhub langgraph langchain_huggingface\n",
    "%pip install --upgrade --quiet transformers accelerate"
   ]
  },
  {
   "cell_type": "markdown",
   "metadata": {},
   "source": [
    "### Conectar con BBDD"
   ]
  },
  {
   "cell_type": "code",
   "execution_count": 2,
   "metadata": {},
   "outputs": [
    {
     "name": "stdout",
     "output_type": "stream",
     "text": [
      "postgresql\n",
      "['documentos', 'entidades', 'expedientes', 'paises', 'regiones']\n"
     ]
    },
    {
     "data": {
      "text/plain": [
       "\"[('PCAP 50 equipos trabajo en movilidad Anexo I acuerdo MP.pdf', 'https://contrataciondelestado.es/wps/wcm/connect/PLACE_es/Site/area/docAccCmpnt?srv=cmpnt&cmpntname=GetDocumentsById&source=library&DocumentIdParam=0b72a403-f89f-44fe-852d-dcba825cdef4', 'Pliego Administrativo', '2023/20'), ('PPT Suministro 50 portatiles Anexo II acuerdo MP.pdf', 'https://contrataciondelestado.es/wps/wcm/connect/PLACE_es/Site/area/docAccCmpnt?srv=cmpnt&cmpntname=GetDocumentsById&source=library&DocumentIdParam=91b4b1e6-5e64-46e7-8091-27febb59c5fd', 'Pliego Técnico', '2023/20'), ('04 PCAP 35 2023 FIRMADO.pdf', 'https://contrataciondelestado.es/wps/wcm/connect/PLACE_es/Site/area/docAccCmpnt?srv=cmpnt&cmpntname=GetDocumentsById&source=library&DocumentIdParam=8bed1139-4bab-4327-9849-9d3f9ed091f3', 'Pliego Administrativo', 'CON 35/2023 SE AB'), ('03 PPT GRUPOS DE BOMBEO 2023 FIRMADA.pdf', 'https://contrataciondelestado.es/wps/wcm/connect/PLACE_es/Site/area/docAccCmpnt?srv=cmpnt&cmpntname=GetDocumentsById&source=library&DocumentIdParam=a4831408-1860-4c0e-9819-62a77c12cb30', 'Pliego Técnico', 'CON 35/2023 SE AB'), ('PliegoDeClausulasAdministrativas.PDF', 'https://contrataciondelestado.es/wps/wcm/connect/PLACE_es/Site/area/docAccCmpnt?srv=cmpnt&cmpntname=GetDocumentsById&source=library&DocumentIdParam=34c6b4fc-2a80-47de-a4e3-ddf3e3b123e4', 'Pliego Administrativo', '3.23/20830.0084'), ('PliegoDePrescripcionesTecnicas.PDF', 'https://contrataciondelestado.es/wps/wcm/connect/PLACE_es/Site/area/docAccCmpnt?srv=cmpnt&cmpntname=GetDocumentsById&source=library&DocumentIdParam=7822c93f-afad-4396-b7d6-6d54367c7989', 'Pliego Técnico', '3.23/20830.0084'), ('1579240-PliegodeCondicionesPa-001010PCA_STD_CA.pdf', 'https://contrataciondelestado.es/wps/wcm/connect/PLACE_es/Site/area/docAccCmpnt?srv=cmpnt&cmpntname=GetDocumentsById&source=library&DocumentIdParam=b02e7ca5-4a54-487c-b276-34c8dd177ae9', 'Pliego Administrativo', '029-2021-0421'), ('1562993--029-2021-0421PPTAmbvariosvfinalfirmad.pdf', 'https://contrataciondelestado.es/wps/wcm/connect/PLACE_es/Site/area/docAccCmpnt?srv=cmpnt&cmpntname=GetDocumentsById&source=library&DocumentIdParam=5bb698b3-947a-4a1d-9007-33e7d99b1fc2', 'Pliego Técnico', '029-2021-0421'), ('Anexo III-A Oferta Eco 029-2021-0421 Lote 1.xlsx', 'https://contrataciondelestado.es/wps/wcm/connect/PLACE_es/Site/area/docAccCmpnt?srv=cmpnt&cmpntname=GetDocumentsById&source=library&DocumentIdParam=962b6772-b1a0-4def-803c-bb1c882aeec3', 'Documento adicional', '029-2021-0421'), ('Anexo III-B Nomenclator 029-2021-0421 Lote 1.xlsx', 'https://contrataciondelestado.es/wps/wcm/connect/PLACE_es/Site/area/docAccCmpnt?srv=cmpnt&cmpntname=GetDocumentsById&source=library&DocumentIdParam=da62e4e3-6271-40fb-a144-14eb201bad09', 'Documento adicional', '029-2021-0421'), ('029-2021-0421 Anexo IV Servicios obligatorios y opcionales.xlsx', 'https://contrataciondelestado.es/wps/wcm/connect/PLACE_es/Site/area/docAccCmpnt?srv=cmpnt&cmpntname=GetDocumentsById&source=library&DocumentIdParam=94f5b315-f62f-4739-9940-f7334c6c6d61', 'Documento adicional', '029-2021-0421'), ('Anexo III-A Oferta Eco 029-2021-0421 Lote 4.xlsx', 'https://contrataciondelestado.es/wps/wcm/connect/PLACE_es/Site/area/docAccCmpnt?srv=cmpnt&cmpntname=GetDocumentsById&source=library&DocumentIdParam=31a69732-a137-429b-8dfd-f22e1661e864', 'Documento adicional', '029-2021-0421'), ('Anexo III-B Nomenclator 029-2021-0421 Lote 3.xlsx', 'https://contrataciondelestado.es/wps/wcm/connect/PLACE_es/Site/area/docAccCmpnt?srv=cmpnt&cmpntname=GetDocumentsById&source=library&DocumentIdParam=c67877ad-dfa3-4c6b-a8a9-1b3840392b76', 'Documento adicional', '029-2021-0421'), ('Anexo III-A Oferta Eco 029-2021-0421 Lote 5.xlsx', 'https://contrataciondelestado.es/wps/wcm/connect/PLACE_es/Site/area/docAccCmpnt?srv=cmpnt&cmpntname=GetDocumentsById&source=library&DocumentIdParam=9bb29d03-8e4a-422a-ae5e-495d4fdff05f', 'Documento adicional', '029-2021-0421'), ('029-2021-0421 Anexo I.xlsx', 'https://contrataciondelestado.es/wps/wcm/connect/PLACE_es/Site/area/docAccCmpnt?srv=cmpnt&cmpntname=GetDocumentsById&source=library&DocumentIdParam=c7a72b49-d5fb-4dc9-8644-b4a57aa253f6', 'Documento adicional', '029-2021-0421'), ('Anexo III-B Nomenclator 029-2021-0421 Lote 5.xlsx', 'https://contrataciondelestado.es/wps/wcm/connect/PLACE_es/Site/area/docAccCmpnt?srv=cmpnt&cmpntname=GetDocumentsById&source=library&DocumentIdParam=6877e35b-ad97-493d-8f2a-13066200dacb', 'Documento adicional', '029-2021-0421'), ('Anexo III-A Oferta Eco 029-2021-0421 Lote 2.xlsx', 'https://contrataciondelestado.es/wps/wcm/connect/PLACE_es/Site/area/docAccCmpnt?srv=cmpnt&cmpntname=GetDocumentsById&source=library&DocumentIdParam=afa7d882-d82d-453b-8dbe-093947b8dadc', 'Documento adicional', '029-2021-0421'), ('029-2021-0421 Anexo II.xlsx', 'https://contrataciondelestado.es/wps/wcm/connect/PLACE_es/Site/area/docAccCmpnt?srv=cmpnt&cmpntname=GetDocumentsById&source=library&DocumentIdParam=d6c6dbc8-6b06-47d4-91a3-23aa946ff0a9', 'Documento adicional', '029-2021-0421'), ('Anexo III-B Nomenclator 029-2021-0421 Lote 2.xlsx', 'https://contrataciondelestado.es/wps/wcm/connect/PLACE_es/Site/area/docAccCmpnt?srv=cmpnt&cmpntname=GetDocumentsById&source=library&DocumentIdParam=774b421c-c7f0-4680-a0ab-24c0df9f835b', 'Documento adicional', '029-2021-0421'), ('Anexo III-B Nomenclator 029-2021-0421 Lote 4.xlsx', 'https://contrataciondelestado.es/wps/wcm/connect/PLACE_es/Site/area/docAccCmpnt?srv=cmpnt&cmpntname=GetDocumentsById&source=library&DocumentIdParam=4e52cee9-3c28-48fb-8e65-7f369a951efa', 'Documento adicional', '029-2021-0421'), ('Anexo III-A Oferta Eco 029-2021-0421 Lote 3.xlsx', 'https://contrataciondelestado.es/wps/wcm/connect/PLACE_es/Site/area/docAccCmpnt?srv=cmpnt&cmpntname=GetDocumentsById&source=library&DocumentIdParam=577ebe56-1fa5-4cae-ab40-370f3c7b5f90', 'Documento adicional', '029-2021-0421'), ('pcap 6312.pdf', 'https://contrataciondelestado.es/wps/wcm/connect/PLACE_es/Site/area/docAccCmpnt?srv=cmpnt&cmpntname=GetDocumentsById&source=library&DocumentIdParam=534b69b1-c35c-47e8-a034-b3de0a6b2000', 'Pliego Administrativo', '2023/ETSAE0327/00006312E'), ('ppt.pdf', 'https://contrataciondelestado.es/wps/wcm/connect/PLACE_es/Site/area/docAccCmpnt?srv=cmpnt&cmpntname=GetDocumentsById&source=library&DocumentIdParam=c536c59d-9e6d-41b6-9b3c-76b085dcb290', 'Pliego Técnico', '2023/ETSAE0327/00006312E'), ('anexos pcap 6312.docx', 'https://contrataciondelestado.es/wps/wcm/connect/PLACE_es/Site/area/docAccCmpnt?srv=cmpnt&cmpntname=GetDocumentsById&source=library&DocumentIdParam=8f8ad276-63de-4619-bbe3-5ed782f4120d', 'Documento adicional', '2023/ETSAE0327/00006312E'), ('PCAP.pdf', 'https://contrataciondelestado.es/wps/wcm/connect/PLACE_es/Site/area/docAccCmpnt?srv=cmpnt&cmpntname=GetDocumentsById&source=library&DocumentIdParam=22e75190-d82b-4425-84d6-a0e0ec0f9ec9', 'Pliego Administrativo', '113/2024'), ('PPT.pdf', 'https://contrataciondelestado.es/wps/wcm/connect/PLACE_es/Site/area/docAccCmpnt?srv=cmpnt&cmpntname=GetDocumentsById&source=library&DocumentIdParam=ccc2b813-0b30-46ca-9c0d-0384395018eb', 'Pliego Técnico', '113/2024'), ('PCAP.zip', 'https://contrataciondelestado.es/wps/wcm/connect/PLACE_es/Site/area/docAccCmpnt?srv=cmpnt&cmpntname=GetDocumentsById&source=library&DocumentIdParam=528a2916-0eea-4968-8c5d-89dcd69a5358', 'Pliego Administrativo', 'DEP02-2024'), ('PPT.zip', 'https://contrataciondelestado.es/wps/wcm/connect/PLACE_es/Site/area/docAccCmpnt?srv=cmpnt&cmpntname=GetDocumentsById&source=library&DocumentIdParam=063ae8d5-cd6b-432f-a425-9276ada720ee', 'Pliego Técnico', 'DEP02-2024'), ('DRU.pdf', 'https://contrataciondelestado.es/wps/wcm/connect/PLACE_es/Site/area/docAccCmpnt?srv=cmpnt&cmpntname=GetDocumentsById&source=library&DocumentIdParam=3c79aace-1c80-47da-9e6f-6be97898f8c4', 'Documento adicional', 'DEP02-2024'), ('PCAP castellano.pdf', 'https://contrataciondelestado.es/wps/wcm/connect/PLACE_es/Site/area/docAccCmpnt?srv=cmpnt&cmpntname=GetDocumentsById&source=library&DocumentIdParam=322b4e07-1358-4b0d-902b-1d418c398db9', 'Pliego Administrativo', '013/2024')]\""
      ]
     },
     "execution_count": 2,
     "metadata": {},
     "output_type": "execute_result"
    }
   ],
   "source": [
    "from langchain_community.utilities import SQLDatabase\n",
    "\n",
    "usuario = 'postgres'\n",
    "password = 'place_rag_password'\n",
    "host = 'localhost'     # o la IP/URL de tu servidor\n",
    "puerto = '5432'        # puerto por defecto de PostgreSQL\n",
    "base_datos = 'place_rag_db'\n",
    "\n",
    "# Crear la URL de conexión\n",
    "uri = f\"postgresql+psycopg2://{usuario}:{password}@{host}:{puerto}/{base_datos}\"\n",
    "\n",
    "db = SQLDatabase.from_uri(uri)\n",
    "\n",
    "print(db.dialect)                  # Para verificar el tipo de base de datos\n",
    "print(db.get_usable_table_names()) # Para listar las tablas de la BD\n",
    "db.run(\"SELECT * FROM documentos LIMIT 30;\")  # Ejemplo de consulta"
   ]
  },
  {
   "cell_type": "markdown",
   "metadata": {},
   "source": [
    "## Chains"
   ]
  },
  {
   "cell_type": "markdown",
   "metadata": {},
   "source": [
    "### Application State"
   ]
  },
  {
   "cell_type": "code",
   "execution_count": 2,
   "metadata": {},
   "outputs": [],
   "source": [
    "from typing_extensions import TypedDict\n",
    "\n",
    "class State(TypedDict):\n",
    "    question: str\n",
    "    query: str\n",
    "    result: str\n",
    "    answer: str"
   ]
  },
  {
   "cell_type": "markdown",
   "metadata": {},
   "source": [
    "### Create SQL query from text"
   ]
  },
  {
   "cell_type": "code",
   "execution_count": 19,
   "metadata": {},
   "outputs": [],
   "source": [
    "from dotenv import load_dotenv\n",
    "load_dotenv()\n",
    "# from langchain_openai import ChatOpenAI\n",
    "\n",
    "# llm = ChatOpenAI(\n",
    "#     model=\"gpt-4o-mini\",\n",
    "#     temperature=0)"
   ]
  },
  {
   "cell_type": "code",
   "execution_count": 20,
   "metadata": {},
   "outputs": [],
   "source": [
    "from langchain_core.prompts import ChatPromptTemplate\n",
    "prompt_template = ChatPromptTemplate([\n",
    "    (\"system\", \"Dada una pregunta de entrada, crea una consulta de {dialect} sintácticamente correcta para ejecutarla y ayudar a encontrar la respuesta. A menos que el usuario especifique en su pregunta una cantidad específica de ejemplos que desea obtener, limita siempre la consulta a como máximo {top_k} resultados. Puedes ordenar los resultados por una columna relevante para devolver los ejemplos más interesantes de la base de datos. Nunca consultes todas las columnas de una tabla específica, solo solicita algunas columnas relevantes según la pregunta. Presta atención a utilizar solo los nombres de las columnas que puedes ver en la descripción del esquema. Ten cuidado de no consultar columnas que no existen. Además, presta atención a qué columna está en cada tabla. Utiliza únicamente las siguientes tablas: {table_info} Pregunta {input_question}\")\n",
    "])"
   ]
  },
  {
   "cell_type": "code",
   "execution_count": null,
   "metadata": {},
   "outputs": [],
   "source": [
    "from langchain_huggingface import HuggingFaceEndpoint\n",
    "from typing_extensions import Annotated\n",
    "\n",
    "class QueryOutput(TypedDict):\n",
    "    \"\"\"Generated SQL query.\"\"\"\n",
    "    query: Annotated[str, ..., \"Syntactically valid SQL query.\"]\n",
    "\n",
    "llm = HuggingFaceEndpoint(\n",
    "    repo_id=\"microsoft/Phi-3-mini-4k-instruct\",\n",
    "    task=\"text-generation\",\n",
    "    max_new_tokens=512,\n",
    "    do_sample=False,\n",
    "    repetition_penalty=1.03,\n",
    ")\n",
    "\n",
    "def write_query(state: State):\n",
    "    \"\"\"Generate SQL query to fetch information.\"\"\"\n",
    "    prompt = prompt_template.invoke(\n",
    "        {\n",
    "            \"dialect\": \"postgresql\",\n",
    "            \"top_k\": \"10\",\n",
    "            \"table_info\": \"expedientes, documentos, entidades, paises, regiones\",\n",
    "            \"input_question\": state[\"question\"]\n",
    "        })\n",
    "    structured_llm = llm.with_structured_output(QueryOutput)\n",
    "    result = structured_llm.invoke(prompt)\n",
    "    return {\"query\": result[\"query\"]}\n",
    "\n",
    "structured_llm = llm.with_structured_output(QueryOutput)"
   ]
  },
  {
   "cell_type": "code",
   "execution_count": null,
   "metadata": {},
   "outputs": [
    {
     "name": "stderr",
     "output_type": "stream",
     "text": [
      "Setting `pad_token_id` to `eos_token_id`:2 for open-end generation.\n"
     ]
    },
    {
     "data": {
      "text/plain": [
       "'Hello, write a python function for saying hello to the Antarctica.\\n\\n### Input\\n\\nThe input'"
      ]
     },
     "execution_count": 8,
     "metadata": {},
     "output_type": "execute_result"
    }
   ],
   "source": [
    "hf.invoke(\"Hello, write a python function for saying hello to the Antarctica\")"
   ]
  },
  {
   "cell_type": "markdown",
   "metadata": {},
   "source": [
    "## Ejecutar la query"
   ]
  },
  {
   "cell_type": "code",
   "execution_count": null,
   "metadata": {},
   "outputs": [],
   "source": [
    "from langchain_community.tools.sql_database.tool import QuerySQLDatabaseTool\n",
    "\n",
    "\n",
    "def execute_query(state: State):\n",
    "    \"\"\"Execute SQL query.\"\"\"\n",
    "    execute_query_tool = QuerySQLDatabaseTool(db=db)\n",
    "    return {\"result\": execute_query_tool.invoke(state[\"query\"])}"
   ]
  },
  {
   "cell_type": "markdown",
   "metadata": {},
   "source": [
    "## Generar respuesta"
   ]
  },
  {
   "cell_type": "code",
   "execution_count": null,
   "metadata": {},
   "outputs": [],
   "source": [
    "def generate_answer(state: State):\n",
    "    \"\"\"Answer question using retrieved information as context.\"\"\"\n",
    "    prompt = (\n",
    "        \"Given the following user question, corresponding SQL query, \"\n",
    "        \"and SQL result, answer the user question.\\n\\n\"\n",
    "        f'Question: {state[\"question\"]}\\n'\n",
    "        f'SQL Query: {state[\"query\"]}\\n'\n",
    "        f'SQL Result: {state[\"result\"]}'\n",
    "    )\n",
    "    response = llm.invoke(prompt)\n",
    "    return {\"answer\": response.content}"
   ]
  },
  {
   "cell_type": "markdown",
   "metadata": {},
   "source": [
    "### --- Test query ---"
   ]
  },
  {
   "cell_type": "code",
   "execution_count": 22,
   "metadata": {},
   "outputs": [
    {
     "data": {
      "text/plain": [
       "{'query': 'SELECT COUNT(*) AS total_documentos FROM documentos;'}"
      ]
     },
     "execution_count": 22,
     "metadata": {},
     "output_type": "execute_result"
    }
   ],
   "source": [
    "write_query({\"question\": \"¿Cuantos documentos hay en la base de datos?\"})"
   ]
  },
  {
   "cell_type": "markdown",
   "metadata": {},
   "source": [
    "### Vector Store"
   ]
  },
  {
   "cell_type": "code",
   "execution_count": 3,
   "metadata": {},
   "outputs": [],
   "source": [
    "import ast\n",
    "import re\n",
    "\n",
    "\n",
    "def query_as_list(db, query):\n",
    "    res = db.run(query)\n",
    "    res = [el for sub in ast.literal_eval(res) for el in sub if el]\n",
    "    res = [re.sub(r\"\\b\\d+\\b\", \"\", string).strip() for string in res]\n",
    "    return list(set(res))\n",
    "\n",
    "\n",
    "entidades = query_as_list(db, \"SELECT name FROM entidades\")\n",
    "tipo_contrato = query_as_list(db, \"SELECT procurement_project_type_code FROM expedientes\")\n",
    "subtipo_contrato = query_as_list(db, \"SELECT procurement_project_subtype_name FROM expedientes\")\n",
    "estado_expediente = query_as_list(db, \"SELECT contract_folder_status_code FROM expedientes\")\n",
    "paises = query_as_list(db, \"SELECT country_name FROM paises\")\n",
    "regiones = query_as_list(db, \"SELECT country_subentity_name FROM regiones\")"
   ]
  },
  {
   "cell_type": "code",
   "execution_count": 5,
   "metadata": {},
   "outputs": [],
   "source": [
    "from langchain_openai import OpenAIEmbeddings\n",
    "\n",
    "embeddings = OpenAIEmbeddings()"
   ]
  },
  {
   "cell_type": "code",
   "execution_count": 6,
   "metadata": {},
   "outputs": [],
   "source": [
    "from langchain_core.vectorstores import InMemoryVectorStore\n",
    "\n",
    "vector_store = InMemoryVectorStore(embeddings)"
   ]
  },
  {
   "cell_type": "code",
   "execution_count": 7,
   "metadata": {},
   "outputs": [],
   "source": [
    "from langchain.agents.agent_toolkits import create_retriever_tool\n",
    "\n",
    "_ = vector_store.add_texts(entidades + tipo_contrato + subtipo_contrato + estado_expediente + paises + regiones)\n",
    "retriever = vector_store.as_retriever(search_kwargs={\"k\": 5})\n",
    "description = (\n",
    "    \"Use to look up values to filter on. Input is an approximate spelling \"\n",
    "    \"of the proper noun, output is valid proper nouns. Use the noun most \"\n",
    "    \"similar to the search.\"\n",
    ")\n",
    "retriever_tool = create_retriever_tool(\n",
    "    retriever,\n",
    "    name=\"search_proper_nouns\",\n",
    "    description=description,\n",
    ")"
   ]
  },
  {
   "cell_type": "markdown",
   "metadata": {},
   "source": [
    "### --- Test retriever ---"
   ]
  },
  {
   "cell_type": "code",
   "execution_count": 10,
   "metadata": {},
   "outputs": [
    {
     "name": "stdout",
     "output_type": "stream",
     "text": [
      "Suministros\n",
      "\n",
      "Yugoiztochen\n",
      "\n",
      "Montserrat\n",
      "\n",
      "Severoiztochen\n",
      "\n",
      "Soria\n"
     ]
    },
    {
     "ename": "",
     "evalue": "",
     "output_type": "error",
     "traceback": [
      "\u001b[1;31mThe Kernel crashed while executing code in the current cell or a previous cell. \n",
      "\u001b[1;31mPlease review the code in the cell(s) to identify a possible cause of the failure. \n",
      "\u001b[1;31mClick <a href='https://aka.ms/vscodeJupyterKernelCrash'>here</a> for more info. \n",
      "\u001b[1;31mView Jupyter <a href='command:jupyter.viewOutput'>log</a> for further details."
     ]
    }
   ],
   "source": [
    "print(retriever_tool.invoke(\"Sumninitros\"))"
   ]
  }
 ],
 "metadata": {
  "kernelspec": {
   "display_name": "Python 3",
   "language": "python",
   "name": "python3"
  },
  "language_info": {
   "codemirror_mode": {
    "name": "ipython",
    "version": 3
   },
   "file_extension": ".py",
   "mimetype": "text/x-python",
   "name": "python",
   "nbconvert_exporter": "python",
   "pygments_lexer": "ipython3",
   "version": "3.11.9"
  }
 },
 "nbformat": 4,
 "nbformat_minor": 2
}
