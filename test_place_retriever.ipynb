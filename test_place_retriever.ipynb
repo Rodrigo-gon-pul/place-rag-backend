{
 "cells": [
  {
   "cell_type": "code",
   "execution_count": null,
   "metadata": {},
   "outputs": [],
   "source": [
    "%pip install sqlglot"
   ]
  },
  {
   "cell_type": "code",
   "execution_count": null,
   "metadata": {},
   "outputs": [],
   "source": [
    "import sqlglot\n",
    "from sqlglot import parse_one, exp\n",
    "\n",
    "def normalize_sql(query):\n",
    "    \"\"\"\n",
    "    Normaliza una consulta SQL parseándola y generando su representación estándar.\n",
    "    \"\"\"\n",
    "    try:\n",
    "        parsed = parse_one(query)\n",
    "        return parsed.to_sql()\n",
    "    except Exception as e:\n",
    "        print(f\"Error al parsear la consulta: {e}\")\n",
    "        return None\n",
    "\n",
    "def son_consultas_equivalentes(sql1, sql2):\n",
    "    \"\"\"\n",
    "    Compara dos consultas SQL para determinar si son estructuralmente equivalentes.\n",
    "    \"\"\"\n",
    "    norm_sql1 = normalize_sql(sql1)\n",
    "    norm_sql2 = normalize_sql(sql2)\n",
    "    \n",
    "    if norm_sql1 is None or norm_sql2 is None:\n",
    "        return False\n",
    "    \n",
    "    return norm_sql1.lower() == norm_sql2.lower()\n",
    "\n",
    "# Ejemplos de consultas\n",
    "consulta1 = \"SELECT a, b FROM tabla WHERE a > 10 ORDER BY b DESC\"\n",
    "consulta2 = \"select b, a from tabla where a > 10 order by b desc\"\n",
    "\n",
    "equivalente = son_consultas_equivalentes(consulta1, consulta2)\n",
    "print(f\"¿Las consultas son equivalentes? {'Sí' if equivalente else 'No'}\")\n"
   ]
  }
 ],
 "metadata": {
  "language_info": {
   "name": "python"
  }
 },
 "nbformat": 4,
 "nbformat_minor": 2
}
